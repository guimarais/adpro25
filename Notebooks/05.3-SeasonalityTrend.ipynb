{
 "cells": [
  {
   "cell_type": "markdown",
   "id": "97cb7639-dc33-4e3a-aff4-924164011a92",
   "metadata": {},
   "source": [
    "# 05.3 - Seasonality and trend"
   ]
  },
  {
   "cell_type": "markdown",
   "id": "017bfb11-ad6a-4582-968c-8d9a519469d5",
   "metadata": {},
   "source": [
    "Some data can have not just a repeating pattern, but a changing baseline underneath as well.\n",
    "\n",
    "We all acknowledge most people have a different routine on weekdays than they have during weekends (not us, we're always working). This was completely true pre-pandemic, and it has changed significantly in the present. However, we still have most weekly habits of eating, sleeping, cleaning, etc..\n",
    "\n",
    "Now you must consider our entire economy is set on top of our habits.\n",
    "\n",
    "Some things repeat daily, or weekly, of yearly, or...\n",
    "\n",
    "Let's analyse one of the classic datasets, consisting of air travel between 1949 and 1961 in the US."
   ]
  },
  {
   "cell_type": "code",
   "execution_count": null,
   "id": "b41249ab-6d53-4897-913e-3bdba73c618a",
   "metadata": {},
   "outputs": [],
   "source": [
    "import pandas as pd\n",
    "import matplotlib.pyplot as plt"
   ]
  },
  {
   "cell_type": "code",
   "execution_count": null,
   "id": "0baf4758-da6a-4068-8f0d-2f59698b11af",
   "metadata": {},
   "outputs": [],
   "source": [
    "## Airline passengers\n",
    "airline_file = 'https://raw.githubusercontent.com/jbrownlee/Datasets/master/airline-passengers.csv'\n",
    "\n",
    "dair = pd.read_csv(airline_file)\n",
    "## Shampoo sales: This is a surprise for later\n",
    "##file_4 = 'https://raw.githubusercontent.com/jbrownlee/Datasets/master/shampoo.csv'"
   ]
  },
  {
   "cell_type": "code",
   "execution_count": null,
   "id": "84fb3129-f87d-4cb2-9def-cf2d29b6c120",
   "metadata": {},
   "outputs": [],
   "source": [
    "dair.head()"
   ]
  },
  {
   "cell_type": "code",
   "execution_count": null,
   "id": "26771332-55bb-4280-aecf-df2217d5bf4d",
   "metadata": {},
   "outputs": [],
   "source": [
    "dair_series = dair.set_index('Month')\n",
    "dair_series.index = pd.to_datetime(dair_series.index)\n",
    "\n",
    "dair_series.plot(figsize=(12,5))\n",
    "#plt.xlim('1959', '1961')\n",
    "plt.show()"
   ]
  },
  {
   "cell_type": "markdown",
   "id": "7e72a82b-9e0a-4840-af89-2271f4564034",
   "metadata": {},
   "source": [
    "<div class=\"alert alert-info\">\n",
    "    <br>\n",
    "    <b>Question: What trend and repetitive pattern can you identify just by looking at the plot?</b>      \n",
    "    <br>\n",
    "    <br>\n",
    "</div>"
   ]
  },
  {
   "cell_type": "code",
   "execution_count": null,
   "id": "f702847b-f1d3-42f8-9607-cc6a8c527005",
   "metadata": {},
   "outputs": [],
   "source": [
    "fig, ax = plt.subplots(figsize=(12,5))\n",
    "\n",
    "dair_series.plot(ax=ax)\n",
    "dair_series.rolling(12).mean().plot(ax=ax)\n",
    "\n",
    "plt.show()"
   ]
  },
  {
   "cell_type": "markdown",
   "id": "b67686a5-fc77-4ed7-a653-c65c9b96afc2",
   "metadata": {},
   "source": [
    "Doing a rolling average with few points loses me the initial year. It gives me the overall trend, but I also lose the seasonality of yearly number of passengers.\n",
    "\n",
    "Let's take a look at some more advanced techniques that allow more rigorous analyses."
   ]
  },
  {
   "cell_type": "markdown",
   "id": "faa18c5e-a53c-4ab3-ade3-7760b3d0bb30",
   "metadata": {},
   "source": [
    "---\n",
    "\n",
    "## STL decomposition\n",
    "\n",
    "The STL \"Seasonal and Trend decomposition using Loess\" method can decompose data into several components. It employs polynomial dcomposition that, together with a user-defined periodicity, extracts three major components: Trend __T__, Seasonality __S__, and Residues __R__. You can also define if the model decomposes the data in an __additive__ or __multiplticative__ model. This means you can have your data __D__ represented as:\n",
    "\n",
    "D = T + S + R\n",
    "\n",
    "or\n",
    "\n",
    "D = T * S * R\n",
    "\n",
    "STL decomposition is good for the analysis of periodic economic KPIs, like electricity consumption through the day, number of passengers on public transportation, etc.. STL can quickly and robustely identify outliers. But remember: STL has no idea about holidays happening!"
   ]
  },
  {
   "cell_type": "code",
   "execution_count": null,
   "id": "3d43af63-ff77-4756-877e-8122a54274c9",
   "metadata": {},
   "outputs": [],
   "source": [
    "from statsmodels.tsa.seasonal import STL\n",
    "from statsmodels.tsa.seasonal import seasonal_decompose"
   ]
  },
  {
   "cell_type": "code",
   "execution_count": null,
   "id": "bae9126f-6789-44db-8d29-d0f9f6ad784a",
   "metadata": {},
   "outputs": [],
   "source": [
    "res = STL(dair_series).fit()"
   ]
  },
  {
   "cell_type": "code",
   "execution_count": null,
   "id": "f0c39613-f46f-4200-b4f9-aace68dbf5c1",
   "metadata": {},
   "outputs": [],
   "source": [
    "res"
   ]
  },
  {
   "cell_type": "code",
   "execution_count": null,
   "id": "a7cd4565-97c3-4eaf-b791-b88a89b90978",
   "metadata": {},
   "outputs": [],
   "source": [
    "figres = res.plot()"
   ]
  },
  {
   "cell_type": "code",
   "execution_count": null,
   "id": "8cb7ddf0-dc1e-42fa-852e-f53970fdd882",
   "metadata": {},
   "outputs": [],
   "source": [
    "fig, ax = plt.subplots(figsize=(14,8), nrows=4, sharex=True)\n",
    "\n",
    "res.observed.plot(ax=ax[0])\n",
    "\n",
    "res.trend.plot(ax=ax[1])\n",
    "\n",
    "res.seasonal.plot(ax=ax[2])\n",
    "\n",
    "res.resid.plot(ax=ax[3])\n",
    "\n",
    "plt.tight_layout()\n",
    "plt.show()"
   ]
  },
  {
   "cell_type": "markdown",
   "id": "1ec271dd-bd2e-4276-a64f-588f93a5bcaf",
   "metadata": {},
   "source": [
    "Much like datetime, STL is smart, but not intteligent. It is a best practice to always make your period explicit in the code, if you know it beforehand. You can even use STL first to have an idea of what your period should be.\n",
    "\n",
    "The __period__ is the number of data points you consider your data to repeat. In this case, we have monthly data, and it is a fair assessment to say the cycles look yearly. People used to travel during Summer, before covid."
   ]
  },
  {
   "cell_type": "code",
   "execution_count": null,
   "id": "82960e61-eb9d-4e6c-b42c-6ce188d9c94a",
   "metadata": {},
   "outputs": [],
   "source": [
    "fig, ax = plt.subplots(figsize=(14,5), nrows=1, sharex=True)\n",
    "\n",
    "res.observed.plot(ax=ax)\n",
    "\n",
    "res.trend.plot(ax=ax)\n",
    "\n",
    "res.seasonal.plot(ax=ax)\n",
    "\n",
    "res.resid.plot(ax=ax)\n",
    "\n",
    "plt.legend()\n",
    "plt.tight_layout()\n",
    "plt.show()"
   ]
  },
  {
   "cell_type": "code",
   "execution_count": null,
   "id": "3be1bfcc-6844-4b89-897b-c6e399f55d27",
   "metadata": {},
   "outputs": [],
   "source": [
    "res = STL(dair_series, period=12).fit()"
   ]
  },
  {
   "cell_type": "markdown",
   "id": "58a7b9ad-eade-40ba-9d63-64d573b5f3fe",
   "metadata": {},
   "source": [
    "Remember that, by default, the model is __additive__. You can specify a __multiplicative__ model. The choice of the model depends on the data source. In this course, we'll only tackle __additive__ models.\n",
    "\n"
   ]
  },
  {
   "cell_type": "markdown",
   "id": "dc1ec726-7044-40f2-aac7-64c00d51c838",
   "metadata": {},
   "source": [
    "If you wish to focus on the seasonal component, you can use a special version of __STL__, in a function called __seasonal_decompose__.\n",
    "\n",
    "Since this method is a mix of moving averages and STL, you will also lose some information at the beginning and the end in your calculated trend."
   ]
  },
  {
   "cell_type": "code",
   "execution_count": null,
   "id": "0faf7604-0010-41ff-a1f6-6cd1d380f041",
   "metadata": {},
   "outputs": [],
   "source": [
    "sdc = seasonal_decompose(dair_series, period=12, model='multiplitcative')"
   ]
  },
  {
   "cell_type": "code",
   "execution_count": null,
   "id": "a408a209-273a-4967-9e7f-185531a34f64",
   "metadata": {},
   "outputs": [],
   "source": [
    "fig, ax = plt.subplots(figsize=(14,8), nrows=4, sharex=True)\n",
    "\n",
    "sdc.observed.plot(ax=ax[0])\n",
    "\n",
    "sdc.trend.plot(ax=ax[1])\n",
    "\n",
    "sdc.seasonal.plot(ax=ax[2])\n",
    "\n",
    "sdc.resid.plot(ax=ax[3])\n",
    "\n",
    "plt.tight_layout()\n",
    "plt.show()"
   ]
  },
  {
   "cell_type": "markdown",
   "id": "925c9dd2-5951-4941-b2a8-2c7fed2d3ba9",
   "metadata": {},
   "source": [
    "Notice the missing points in the beginning and the end of the data interval, much like a moving average.\n",
    "---\n",
    "Decomposing data is a great way to analyse it. The next step is to [predict it](05.4-Forecasting.ipynb)."
   ]
  }
 ],
 "metadata": {
  "kernelspec": {
   "display_name": "Python 3 (ipykernel)",
   "language": "python",
   "name": "python3"
  },
  "language_info": {
   "codemirror_mode": {
    "name": "ipython",
    "version": 3
   },
   "file_extension": ".py",
   "mimetype": "text/x-python",
   "name": "python",
   "nbconvert_exporter": "python",
   "pygments_lexer": "ipython3",
   "version": "3.11.11"
  }
 },
 "nbformat": 4,
 "nbformat_minor": 5
}
