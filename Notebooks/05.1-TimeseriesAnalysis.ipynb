{
 "cells": [
  {
   "cell_type": "markdown",
   "metadata": {},
   "source": [
    "# 05.1 - Instinctly understanding Frequency domain analysis via acoustic exploration\n",
    "\n",
    "Time series analysis is a rich field, envolving extensive mathematical analysis. Since our time is limited, we will try to learn the importance of time series analysis with an intuitive acoustic example.\n",
    "\n",
    "Sound waves are used so we can identify frequency components in a way other than graphical. The 440 Hz note corresponds to the [pitch used as the de facto musical reference for tunning](https://en.wikipedia.org/wiki/A440_(pitch_standard)).\n",
    "\n",
    "When we record something we are __sampling it__. If our recording apparatus is working properly, it acquires information at a steady and uniform rate. The rate at which we sample something is called the __Sampling Rate__.\n",
    "\n",
    "44000\n",
    "\n",
    "To define a monochromatic signal (a one-frequency signal), of course, the __frequency (f)__ itself, and the __amplitude (A)__ of the signal. We also need a __phase ($\\phi$)__ that gives the delay of the wave. At the instant of time __t__ our wave looks like:\n",
    "\n",
    "$$w(t) = A\\sin(2\\pi~f~t + \\phi)$$\n",
    "\n",
    "To measure a signal (a wave in this case) is to __sample it__. To properly define programatically via python a reproducible sound, we need to define a sample rate and also the time which we want our signal to play."
   ]
  },
  {
   "cell_type": "code",
   "execution_count": null,
   "metadata": {},
   "outputs": [],
   "source": [
    "import numpy as np\n",
    "import matplotlib.pyplot as plt\n",
    "from ipywidgets import widgets\n",
    "from ipywidgets import interact, interactive, fixed\n",
    "from IPython.display import display\n",
    "import IPython.display as ipd\n",
    "\n",
    "def wave_plot(amplitude=1.0, frequency=1.0, phase=0):\n",
    "    t = np.linspace(0, 5, 1000)\n",
    "    y = amplitude * np.sin(2.0*np.pi*frequency*t + phase)\n",
    "    \n",
    "    fig, ax = plt.subplots(figsize=(12,5))\n",
    "    ax.plot(t, y)\n",
    "    ax.set_xlabel(\"Time [s]\")\n",
    "    ax.set_ylabel(\"Amplitude [A.U]\")\n",
    "    ax.set_xlim(0, 5)\n",
    "    ax.set_ylim(-3, 3)\n",
    "    plt.tight_layout()\n",
    "    plt.show()"
   ]
  },
  {
   "cell_type": "code",
   "execution_count": null,
   "metadata": {},
   "outputs": [],
   "source": [
    "interact(wave_plot,\n",
    "         amplitude=widgets.FloatSlider(value=1.0, min=0.0, max=3.0, step=0.1),\n",
    "         frequency=widgets.FloatSlider(value=1.0, min=0.0, max=10.0, step=0.1),\n",
    "         phase=widgets.FloatSlider(value=0.0, min=-20.0*np.pi, max=20.0*np.pi, step=1.0))"
   ]
  },
  {
   "cell_type": "markdown",
   "metadata": {},
   "source": [
    "---\n",
    "## Acoustic examples"
   ]
  },
  {
   "cell_type": "code",
   "execution_count": null,
   "metadata": {},
   "outputs": [],
   "source": [
    "sr = 44000.0 # Sample Rate, typical mp3 value. How many samples per second we are measuring\n",
    "T = 2.0      # Seconds of play\n",
    "t = np.linspace(0, T, int(T*sr), endpoint=False) # time: the number of points is defined by the length of the time interval and the sampling rate."
   ]
  },
  {
   "cell_type": "code",
   "execution_count": null,
   "metadata": {},
   "outputs": [],
   "source": [
    "freq1 = 440\n",
    "wave1 = 0.5 * np.sin(2 * np.pi * freq1 * t)"
   ]
  },
  {
   "cell_type": "code",
   "execution_count": null,
   "metadata": {},
   "outputs": [],
   "source": [
    "plt.plot(t, wave1)\n",
    "#plt.xlim(0, 0.01)\n",
    "plt.show()"
   ]
  },
  {
   "cell_type": "code",
   "execution_count": null,
   "metadata": {},
   "outputs": [],
   "source": [
    "ipd.Audio(wave1, rate=sr) # Convert a numpy array into a audio format"
   ]
  },
  {
   "cell_type": "code",
   "execution_count": null,
   "metadata": {},
   "outputs": [],
   "source": [
    "freq2 = 880\n",
    "wave2 = 0.5 * np.sin(2 * np.pi * freq2 * t)  \n",
    "ipd.Audio(wave2, rate=sr) # load a NumPy array"
   ]
  },
  {
   "cell_type": "code",
   "execution_count": null,
   "metadata": {},
   "outputs": [],
   "source": [
    "freq3 = 50 #50Hz is the frequency of AC electricity in Europe \n",
    "wave3 = 0.5 * np.sin(2 * np.pi * freq3 * t)\n",
    "ipd.Audio(wave3, rate=sr) # load a NumPy array"
   ]
  },
  {
   "cell_type": "code",
   "execution_count": null,
   "metadata": {},
   "outputs": [],
   "source": [
    "freq4 = 18000\n",
    "wave4 = 2 * np.sin(2.0 * np.pi * freq4 * t)\n",
    "ipd.Audio(wave4, rate=sr) # load a NumPy array"
   ]
  },
  {
   "cell_type": "code",
   "execution_count": null,
   "metadata": {},
   "outputs": [],
   "source": [
    "fig, ax = plt.subplots(figsize=(16,5))\n",
    "\n",
    "ax.plot(t, wave1, label=f'{freq1} Hz')\n",
    "\n",
    "ax.plot(t, wave4, label=f'{freq4} Hz')\n",
    "\n",
    "ax.set_xlim(0, 0.01)\n",
    "ax.set_xlabel('Time [s]')\n",
    "\n",
    "plt.legend()\n",
    "plt.tight_layout()\n",
    "plt.show()"
   ]
  },
  {
   "cell_type": "markdown",
   "metadata": {},
   "source": [
    "The \"spikes\" in the orange plot mean that the rate of change of that signal is too fast for my sampling rate to track it in a smooth way. "
   ]
  },
  {
   "cell_type": "code",
   "execution_count": null,
   "metadata": {},
   "outputs": [],
   "source": [
    "fig, ax = plt.subplots(figsize=(16,5))\n",
    "\n",
    "ax.plot(t, wave1 + wave4)\n",
    "\n",
    "ax.set_xlim(0, 0.01)\n",
    "\n",
    "ax.set_xlabel(\"Time [s]\")\n",
    "plt.tight_layout()\n",
    "plt.show()"
   ]
  },
  {
   "cell_type": "code",
   "execution_count": null,
   "metadata": {},
   "outputs": [],
   "source": [
    "ipd.Audio(wave1+wave3, rate=sr) # Change to other mixes so you can get a feel"
   ]
  },
  {
   "cell_type": "markdown",
   "metadata": {},
   "source": [
    "The __Fourier Transform__ moves you from the normal mathematical space, or __normal domain__, which is __Time__ in our example, into the conjugate mathematical space, or __conjugate domain__. The conjugate domain of Time is Frequency.\n",
    "\n",
    "The Fourier Transform itself is a heavy algorithm to compute. For many years it was impossible for computers to do it. Since the 1800s there has been research in how to simplify the computation needed to perform the Transformation. In the 60s, a very close and easily computable alternative is introduced, the __Fast Fourier Transform (FFT)__. Please note, it is not the exact Fourier Transform itself. It can mathematically demonstrated that the FFT is a very good approximation.\n",
    "\n",
    "As we are analysing only signals with real components, we need to get the real components of the transform. The Real FFT gives you the amplitude characteristics of your signals."
   ]
  },
  {
   "cell_type": "code",
   "execution_count": null,
   "metadata": {},
   "outputs": [],
   "source": [
    "fig, ax = plt.subplots(figsize=(16,5))\n",
    "\n",
    "real_fft = np.abs(np.fft.rfft(wave1+wave4))\n",
    "frequencies = np.linspace(0, sr/2, num= int(sr/2*T) + 1, endpoint=False)\n",
    "\n",
    "ax.plot(frequencies, real_fft)\n",
    "\n",
    "ax.set_xlabel(\"Frequency [Hz]\")\n",
    "\n",
    "ax.set_xlim(0, sr/2)\n",
    "#ax.set_xlim(400, 500)\n",
    "#ax.set_xlim(17000, 19000)\n",
    "\n",
    "plt.tight_layout()\n",
    "plt.show()"
   ]
  },
  {
   "cell_type": "code",
   "execution_count": null,
   "metadata": {},
   "outputs": [],
   "source": [
    "44000 - 22000Hz"
   ]
  },
  {
   "cell_type": "markdown",
   "metadata": {},
   "source": [
    "There are some limitations to apply the FFT. All your data points must be equally spaced and your total data points must be a power of 2 (256, 512, 1024, etc...). There are easy ways to overcome this.\n",
    "\n",
    "Also of note, if you have a sample rate __sr__, you can only measure frequencies up to __sr/2__, as explained by the [Nyquist-Shannon theorem](https://en.wikipedia.org/wiki/Nyquist%E2%80%93Shannon_sampling_theorem).\n",
    "\n",
    "With a sampling rate of 44000 Hz in our audio example, we can only accurately measure frequencies of up to 22000 Hz."
   ]
  },
  {
   "cell_type": "markdown",
   "metadata": {},
   "source": [
    "<div class=\"alert alert-info\">\n",
    "    <br>\n",
    "    <b>Exercise: Change the amplitude of the sine waves and run the FFT algorithm. What happens to the peaks you see?</b>      \n",
    "    <br>\n",
    "    <br>\n",
    "</div>"
   ]
  },
  {
   "cell_type": "markdown",
   "metadata": {},
   "source": [
    "---"
   ]
  },
  {
   "cell_type": "markdown",
   "metadata": {},
   "source": [
    "## Why this matters for a business\n",
    "\n",
    "Some trends could be understood with a simple Fourier analysis. Let's use real data examples.\n",
    "[Moving forwards into the next notebbok](05.2-TrendsSmoothingFiltering.ipynb)."
   ]
  }
 ],
 "metadata": {
  "kernelspec": {
   "display_name": "Python 3 (ipykernel)",
   "language": "python",
   "name": "python3"
  },
  "language_info": {
   "codemirror_mode": {
    "name": "ipython",
    "version": 3
   },
   "file_extension": ".py",
   "mimetype": "text/x-python",
   "name": "python",
   "nbconvert_exporter": "python",
   "pygments_lexer": "ipython3",
   "version": "3.11.11"
  }
 },
 "nbformat": 4,
 "nbformat_minor": 4
}
